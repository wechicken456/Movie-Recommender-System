{
 "cells": [
  {
   "cell_type": "code",
   "execution_count": 2,
   "metadata": {},
   "outputs": [],
   "source": [
    "from d2l import torch as d2l\n",
    "import os\n",
    "import pandas as pd\n",
    "from d2l import torch as d2l\n",
    "import matplotlib.pyplot as plt\n",
    "import numpy as np\n",
    "import random\n",
    "import torch\n",
    "from torch import nn\n",
    "import torch.multiprocessing as mp\n",
    "from torch.utils.data.distributed import DistributedSampler\n",
    "\n",
    "\n",
    "\n",
    "devices = d2l.try_all_gpus()"
   ]
  },
  {
   "cell_type": "code",
   "execution_count": null,
   "metadata": {},
   "outputs": [],
   "source": [
    "def read_dataset(is_big_computer = False):\n",
    "    names = ['user_id', 'movie_id', 'rating', 'timestamp']\n",
    "    data = pd.read_csv(\"./ml-32m/ratings.csv\", names=names, header=0)\n",
    "    if not is_big_computer:\n",
    "        data = data.sample(n=10_000, random_state=42) # Limit to 1 million ratings for faster processing\n",
    "    else:\n",
    "        data = data.sample(n=1_000_000, random_state=42) # Limit to 1 million ratings for faster processing\n",
    "\n",
    "    data[\"user_id\"] = data[\"user_id\"]\n",
    "    data[\"movie_id\"] = data[\"movie_id\"]\n",
    "    num_users = data.user_id.unique().shape[0]\n",
    "    num_movies = data.movie_id.unique().shape[0]\n",
    "    return data, num_users, num_movies\n",
    "\n",
    "def reindex_data(data : pd.DataFrame):\n",
    "    user_id_map = {id: i for i, id in enumerate(data.user_id.unique())}\n",
    "    movie_id_map = {id: i for i, id in enumerate(data.movie_id.unique())}\n",
    "    \n",
    "    data['user_id'] = data['user_id'].map(user_id_map)\n",
    "    data['movie_id'] = data['movie_id'].map(movie_id_map)\n",
    "    \n",
    "    return data"
   ]
  },
  {
   "cell_type": "code",
   "execution_count": null,
   "metadata": {},
   "outputs": [],
   "source": [
    "# data, num_users, num_movies = read_dataset()"
   ]
  },
  {
   "cell_type": "code",
   "execution_count": null,
   "metadata": {},
   "outputs": [
    {
     "name": "stdout",
     "output_type": "stream",
     "text": [
      "number of users: 167266, number of movies: 27726\n",
      "matrix sparsity: 0.999784\n"
     ]
    }
   ],
   "source": [
    "# sparsity = 1 - len(data) / (num_users * num_movies)\n",
    "# print(f'number of users: {num_users}, number of movies: {num_movies}')\n",
    "# print(f'matrix sparsity: {sparsity:f}')"
   ]
  },
  {
   "cell_type": "code",
   "execution_count": null,
   "metadata": {},
   "outputs": [
    {
     "data": {
      "text/html": [
       "<div>\n",
       "<style scoped>\n",
       "    .dataframe tbody tr th:only-of-type {\n",
       "        vertical-align: middle;\n",
       "    }\n",
       "\n",
       "    .dataframe tbody tr th {\n",
       "        vertical-align: top;\n",
       "    }\n",
       "\n",
       "    .dataframe thead th {\n",
       "        text-align: right;\n",
       "    }\n",
       "</style>\n",
       "<table border=\"1\" class=\"dataframe\">\n",
       "  <thead>\n",
       "    <tr style=\"text-align: right;\">\n",
       "      <th></th>\n",
       "      <th>user_id</th>\n",
       "      <th>movie_id</th>\n",
       "      <th>rating</th>\n",
       "      <th>timestamp</th>\n",
       "    </tr>\n",
       "  </thead>\n",
       "  <tbody>\n",
       "    <tr>\n",
       "      <th>10685861</th>\n",
       "      <td>66954</td>\n",
       "      <td>781</td>\n",
       "      <td>5.0</td>\n",
       "      <td>850944577</td>\n",
       "    </tr>\n",
       "    <tr>\n",
       "      <th>1552723</th>\n",
       "      <td>9877</td>\n",
       "      <td>574</td>\n",
       "      <td>4.0</td>\n",
       "      <td>945495614</td>\n",
       "    </tr>\n",
       "    <tr>\n",
       "      <th>6145184</th>\n",
       "      <td>38348</td>\n",
       "      <td>1088</td>\n",
       "      <td>2.0</td>\n",
       "      <td>999974867</td>\n",
       "    </tr>\n",
       "    <tr>\n",
       "      <th>16268584</th>\n",
       "      <td>101952</td>\n",
       "      <td>2706</td>\n",
       "      <td>1.0</td>\n",
       "      <td>1203077565</td>\n",
       "    </tr>\n",
       "    <tr>\n",
       "      <th>22418634</th>\n",
       "      <td>140400</td>\n",
       "      <td>275079</td>\n",
       "      <td>3.5</td>\n",
       "      <td>1653782463</td>\n",
       "    </tr>\n",
       "  </tbody>\n",
       "</table>\n",
       "</div>"
      ],
      "text/plain": [
       "          user_id  movie_id  rating   timestamp\n",
       "10685861    66954       781     5.0   850944577\n",
       "1552723      9877       574     4.0   945495614\n",
       "6145184     38348      1088     2.0   999974867\n",
       "16268584   101952      2706     1.0  1203077565\n",
       "22418634   140400    275079     3.5  1653782463"
      ]
     },
     "execution_count": 72,
     "metadata": {},
     "output_type": "execute_result"
    }
   ],
   "source": [
    "# data[:5]"
   ]
  },
  {
   "cell_type": "code",
   "execution_count": null,
   "metadata": {},
   "outputs": [
    {
     "data": {
      "text/html": [
       "<div>\n",
       "<style scoped>\n",
       "    .dataframe tbody tr th:only-of-type {\n",
       "        vertical-align: middle;\n",
       "    }\n",
       "\n",
       "    .dataframe tbody tr th {\n",
       "        vertical-align: top;\n",
       "    }\n",
       "\n",
       "    .dataframe thead th {\n",
       "        text-align: right;\n",
       "    }\n",
       "</style>\n",
       "<table border=\"1\" class=\"dataframe\">\n",
       "  <thead>\n",
       "    <tr style=\"text-align: right;\">\n",
       "      <th></th>\n",
       "      <th>user_id</th>\n",
       "      <th>movie_id</th>\n",
       "      <th>rating</th>\n",
       "      <th>timestamp</th>\n",
       "    </tr>\n",
       "  </thead>\n",
       "  <tbody>\n",
       "    <tr>\n",
       "      <th>count</th>\n",
       "      <td>1000000.000000</td>\n",
       "      <td>1000000.000000</td>\n",
       "      <td>1000000.000000</td>\n",
       "      <td>1.000000e+06</td>\n",
       "    </tr>\n",
       "    <tr>\n",
       "      <th>mean</th>\n",
       "      <td>100339.282490</td>\n",
       "      <td>29349.124476</td>\n",
       "      <td>3.539737</td>\n",
       "      <td>1.275225e+09</td>\n",
       "    </tr>\n",
       "    <tr>\n",
       "      <th>std</th>\n",
       "      <td>57917.799297</td>\n",
       "      <td>51012.984959</td>\n",
       "      <td>1.059928</td>\n",
       "      <td>2.561240e+08</td>\n",
       "    </tr>\n",
       "    <tr>\n",
       "      <th>min</th>\n",
       "      <td>1.000000</td>\n",
       "      <td>1.000000</td>\n",
       "      <td>0.500000</td>\n",
       "      <td>8.231852e+08</td>\n",
       "    </tr>\n",
       "    <tr>\n",
       "      <th>25%</th>\n",
       "      <td>50154.750000</td>\n",
       "      <td>1230.000000</td>\n",
       "      <td>3.000000</td>\n",
       "      <td>1.051545e+09</td>\n",
       "    </tr>\n",
       "    <tr>\n",
       "      <th>50%</th>\n",
       "      <td>100311.000000</td>\n",
       "      <td>3452.000000</td>\n",
       "      <td>3.500000</td>\n",
       "      <td>1.272615e+09</td>\n",
       "    </tr>\n",
       "    <tr>\n",
       "      <th>75%</th>\n",
       "      <td>150499.000000</td>\n",
       "      <td>44199.000000</td>\n",
       "      <td>4.000000</td>\n",
       "      <td>1.503010e+09</td>\n",
       "    </tr>\n",
       "    <tr>\n",
       "      <th>max</th>\n",
       "      <td>200948.000000</td>\n",
       "      <td>292755.000000</td>\n",
       "      <td>5.000000</td>\n",
       "      <td>1.697164e+09</td>\n",
       "    </tr>\n",
       "  </tbody>\n",
       "</table>\n",
       "</div>"
      ],
      "text/plain": [
       "              user_id        movie_id          rating     timestamp\n",
       "count  1000000.000000  1000000.000000  1000000.000000  1.000000e+06\n",
       "mean    100339.282490    29349.124476        3.539737  1.275225e+09\n",
       "std      57917.799297    51012.984959        1.059928  2.561240e+08\n",
       "min          1.000000        1.000000        0.500000  8.231852e+08\n",
       "25%      50154.750000     1230.000000        3.000000  1.051545e+09\n",
       "50%     100311.000000     3452.000000        3.500000  1.272615e+09\n",
       "75%     150499.000000    44199.000000        4.000000  1.503010e+09\n",
       "max     200948.000000   292755.000000        5.000000  1.697164e+09"
      ]
     },
     "execution_count": 73,
     "metadata": {},
     "output_type": "execute_result"
    }
   ],
   "source": [
    "# data.describe()"
   ]
  },
  {
   "cell_type": "markdown",
   "metadata": {},
   "source": [
    "## Plot the distribution of the ratings"
   ]
  },
  {
   "cell_type": "code",
   "execution_count": null,
   "metadata": {},
   "outputs": [
    {
     "data": {
      "text/plain": [
       "Text(0, 0.5, 'Count')"
      ]
     },
     "execution_count": 74,
     "metadata": {},
     "output_type": "execute_result"
    },
    {
     "data": {
      "image/png": "[encoded data removed]",
      "text/plain": [
       "<Figure size 640x480 with 1 Axes>"
      ]
     },
     "metadata": {},
     "output_type": "display_data"
    }
   ],
   "source": [
    "# plt.hist(data[\"rating\"], bins=5, edgecolor='black')\n",
    "# plt.xlabel('Rating')\n",
    "# plt.ylabel('Count')"
   ]
  },
  {
   "cell_type": "markdown",
   "metadata": {},
   "source": [
    "## Splitting the dataset\n",
    "We split the dataset into training and test sets. The following function provides two split modes including `random` and `seq-aware`. In the `random` mode, the function splits the 100k interactions randomly without considering timestamp and uses the 90% of the data as training samples and the rest 10% as test samples by default. In the `seq-aware` mode, we leave out the movie that a user rated most recently for test, and users’ historical interactions as training set. User historical interactions are sorted from oldest to newest based on timestamp. This mode will be used in the sequence-aware recommendation section."
   ]
  },
  {
   "cell_type": "code",
   "execution_count": 4,
   "metadata": {},
   "outputs": [],
   "source": [
    "def split_data(data : pd.DataFrame, num_users, num_movies, split_mode = \"random\", test_ratio=0.2):\n",
    "    if split_mode == \"random\":\n",
    "        training_mask = np.random.rand(len(data)) > test_ratio\n",
    "        train_data = data[training_mask]\n",
    "        test_data = data[~training_mask]\n",
    "    \n",
    "    elif split_mode == \"seq-aware\":\n",
    "        user_groups = data.groupby('user_id')\n",
    "        train_data = []\n",
    "        test_data = []\n",
    "        for _, group in user_groups:\n",
    "            group = group.sort_values(by='timestamp', ascending=True)\n",
    "            split_index = int(len(group) * (1 - test_ratio))\n",
    "            train_data.append(group.iloc[:split_index])\n",
    "            test_data.append(group.iloc[split_index:])\n",
    "        train_data = pd.DataFrame(pd.concat(train_data, ignore_index=True))\n",
    "        test_data = pd.DataFrame(pd.concat(test_data, ignore_index=True))\n",
    "    \n",
    "    else:\n",
    "        raise ValueError(\"split_mode must be 'random' or 'seq-aware'\")\n",
    "\n",
    "    return train_data, test_data"
   ]
  },
  {
   "cell_type": "markdown",
   "metadata": {},
   "source": [
    "## Loading the dataset"
   ]
  },
  {
   "cell_type": "code",
   "execution_count": 5,
   "metadata": {},
   "outputs": [],
   "source": [
    "def load_data(data : pd.DataFrame, num_users, num_movies, feedback=\"explicit\"):\n",
    "    \"\"\"\n",
    "    returns lists of users, movies, ratings and a dictionary/matrix that records the interactions. \n",
    "    If feedback is \"explicit\", ratings are used as feedback.\n",
    "    If feedback is \"implicit\", then the user didn't give any rating, so the user's action of interacting with the movie is considered as positive feedback.\n",
    "    The `inter` is the interaction matrix that reflects this.\n",
    "    \"\"\"\n",
    "    inter = np.zeros((num_movies, num_users)) if feedback == 'explicit' else {}\n",
    "\n",
    "    if feedback == \"explicit\":\n",
    "        scores = data[\"rating\"].astype(int)\n",
    "    else:\n",
    "        scores = pd.Series(1, index=data.index)\n",
    "    \n",
    "    i = 0\n",
    "    for line in data.itertuples(): # itertuples is faster than iterrows for large DataFrames\n",
    "        user_id, movie_id = int(line.user_id), int(line.movie_id)\n",
    "        if feedback == \"explicit\":\n",
    "            inter[movie_id - 1, user_id - 1] = scores[i]\n",
    "        else:\n",
    "            inter.setdefault(user_id - 1, []).append(movie_id - 1)\n",
    "        i += 1\n",
    "        \n",
    "    return list(data[\"user_id\"]), list(data[\"movie_id\"]), list(scores), inter\n"
   ]
  },
  {
   "cell_type": "code",
   "execution_count": null,
   "metadata": {},
   "outputs": [],
   "source": [
    "def get_datasets(split_mode = \"seq-aware\", feedback=\"explicit\", test_ratio = 0.1, is_big_computer = False):\n",
    "    data, num_users, num_movies = read_dataset(is_big_computer)\n",
    "    data = reindex_data(data)\n",
    "    train_data, test_data = split_data(data, num_users, num_movies, split_mode=split_mode, test_ratio=test_ratio)\n",
    "\n",
    "    train_users, train_movies, train_scores, train_inter = load_data(train_data, num_users, num_movies, feedback=feedback)\n",
    "    test_users, test_movies, test_scores, test_inter = load_data(test_data, num_users, num_movies, feedback=feedback)\n",
    "\n",
    "    train_u = torch.tensor(np.array(train_users))\n",
    "    train_m = torch.tensor(np.array(train_movies))\n",
    "    train_r = torch.tensor(np.array(train_scores), dtype=torch.float32)\n",
    "    test_u = torch.tensor(np.array(test_users))\n",
    "    test_m = torch.tensor(np.array(test_movies))\n",
    "    test_r = torch.tensor(np.array(test_scores), dtype=torch.float32)\n",
    "\n",
    "    train_set = torch.utils.data.TensorDataset(train_u, train_m, train_r)\n",
    "    test_set = torch.utils.data.TensorDataset(test_u, test_m, test_r)\n",
    "\n",
    "    return num_users, num_movies, train_set, test_set\n",
    "\n",
    "\n",
    "def get_dataloaders(train_set : torch.utils.data.TensorDataset, test_set: torch.utils.data.TensorDataset, batch_size = 32):\n",
    "    # Don't shuffle as we're using the Distributed Sampler here.\n",
    "    # The trainer should call train_iter.sampler.set_epoch(epoch) at every epoch to shuffle.\n",
    "    # Each process will receive batch_size samples per iteration.\n",
    "    train_iter = torch.utils.data.DataLoader(train_set, batch_size=batch_size, shuffle=False, sampler=DistributedSampler(train_set)) \n",
    "    test_iter = torch.utils.data.DataLoader(test_set, batch_size=batch_size, shuffle=False, sampler=DistributedSampler(train_set))\n",
    "    return train_iter, test_iter\n",
    "\n",
    "\n"
   ]
  },
  {
   "cell_type": "code",
   "execution_count": null,
   "metadata": {},
   "outputs": [],
   "source": [
    "# num_users, num_movies, train_iter, test_iter = split_and_load_data(\n",
    "#     test_ratio=0.1, batch_size=256)"
   ]
  },
  {
   "cell_type": "code",
   "execution_count": null,
   "metadata": {},
   "outputs": [],
   "source": []
  }
 ],
 "metadata": {
  "kernelspec": {
   "display_name": "d2l",
   "language": "python",
   "name": "python3"
  },
  "language_info": {
   "codemirror_mode": {
    "name": "ipython",
    "version": 3
   },
   "file_extension": ".py",
   "mimetype": "text/x-python",
   "name": "python",
   "nbconvert_exporter": "python",
   "pygments_lexer": "ipython3",
   "version": "3.11.11"
  }
 },
 "nbformat": 4,
 "nbformat_minor": 2
}
